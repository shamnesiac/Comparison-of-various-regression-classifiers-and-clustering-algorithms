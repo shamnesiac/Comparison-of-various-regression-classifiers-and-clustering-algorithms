{
  "cells": [
    {
      "cell_type": "markdown",
      "metadata": {
        "id": "h6V6hYB4Dd5E"
      },
      "source": [
        "Installing the necessary extensions."
      ]
    },
    {
      "cell_type": "code",
      "source": [
        "!pip install ngboost\n",
        "!pip install scikit-learn-extra"
      ],
      "metadata": {
        "colab": {
          "base_uri": "https://localhost:8080/"
        },
        "id": "uQzdHU2wYpIo",
        "outputId": "fd351d3d-7306-4339-84ec-66e95bfe3628"
      },
      "execution_count": 1,
      "outputs": [
        {
          "output_type": "stream",
          "name": "stdout",
          "text": [
            "Collecting ngboost\n",
            "  Downloading ngboost-0.5.1-py3-none-any.whl.metadata (4.0 kB)\n",
            "Collecting lifelines>=0.25 (from ngboost)\n",
            "  Downloading lifelines-0.30.0-py3-none-any.whl.metadata (3.2 kB)\n",
            "Requirement already satisfied: numpy>=1.21.2 in /usr/local/lib/python3.10/dist-packages (from ngboost) (1.26.4)\n",
            "Requirement already satisfied: scikit-learn>=1.0.2 in /usr/local/lib/python3.10/dist-packages (from ngboost) (1.5.2)\n",
            "Requirement already satisfied: scipy>=1.7.2 in /usr/local/lib/python3.10/dist-packages (from ngboost) (1.13.1)\n",
            "Requirement already satisfied: tqdm>=4.3 in /usr/local/lib/python3.10/dist-packages (from ngboost) (4.66.6)\n",
            "Requirement already satisfied: pandas>=2.1 in /usr/local/lib/python3.10/dist-packages (from lifelines>=0.25->ngboost) (2.2.2)\n",
            "Requirement already satisfied: matplotlib>=3.0 in /usr/local/lib/python3.10/dist-packages (from lifelines>=0.25->ngboost) (3.8.0)\n",
            "Requirement already satisfied: autograd>=1.5 in /usr/local/lib/python3.10/dist-packages (from lifelines>=0.25->ngboost) (1.7.0)\n",
            "Collecting autograd-gamma>=0.3 (from lifelines>=0.25->ngboost)\n",
            "  Downloading autograd-gamma-0.5.0.tar.gz (4.0 kB)\n",
            "  Preparing metadata (setup.py) ... \u001b[?25l\u001b[?25hdone\n",
            "Collecting formulaic>=0.2.2 (from lifelines>=0.25->ngboost)\n",
            "  Downloading formulaic-1.0.2-py3-none-any.whl.metadata (6.8 kB)\n",
            "Requirement already satisfied: joblib>=1.2.0 in /usr/local/lib/python3.10/dist-packages (from scikit-learn>=1.0.2->ngboost) (1.4.2)\n",
            "Requirement already satisfied: threadpoolctl>=3.1.0 in /usr/local/lib/python3.10/dist-packages (from scikit-learn>=1.0.2->ngboost) (3.5.0)\n",
            "Collecting interface-meta>=1.2.0 (from formulaic>=0.2.2->lifelines>=0.25->ngboost)\n",
            "  Downloading interface_meta-1.3.0-py3-none-any.whl.metadata (6.7 kB)\n",
            "Requirement already satisfied: typing-extensions>=4.2.0 in /usr/local/lib/python3.10/dist-packages (from formulaic>=0.2.2->lifelines>=0.25->ngboost) (4.12.2)\n",
            "Requirement already satisfied: wrapt>=1.0 in /usr/local/lib/python3.10/dist-packages (from formulaic>=0.2.2->lifelines>=0.25->ngboost) (1.16.0)\n",
            "Requirement already satisfied: contourpy>=1.0.1 in /usr/local/lib/python3.10/dist-packages (from matplotlib>=3.0->lifelines>=0.25->ngboost) (1.3.0)\n",
            "Requirement already satisfied: cycler>=0.10 in /usr/local/lib/python3.10/dist-packages (from matplotlib>=3.0->lifelines>=0.25->ngboost) (0.12.1)\n",
            "Requirement already satisfied: fonttools>=4.22.0 in /usr/local/lib/python3.10/dist-packages (from matplotlib>=3.0->lifelines>=0.25->ngboost) (4.54.1)\n",
            "Requirement already satisfied: kiwisolver>=1.0.1 in /usr/local/lib/python3.10/dist-packages (from matplotlib>=3.0->lifelines>=0.25->ngboost) (1.4.7)\n",
            "Requirement already satisfied: packaging>=20.0 in /usr/local/lib/python3.10/dist-packages (from matplotlib>=3.0->lifelines>=0.25->ngboost) (24.1)\n",
            "Requirement already satisfied: pillow>=6.2.0 in /usr/local/lib/python3.10/dist-packages (from matplotlib>=3.0->lifelines>=0.25->ngboost) (10.4.0)\n",
            "Requirement already satisfied: pyparsing>=2.3.1 in /usr/local/lib/python3.10/dist-packages (from matplotlib>=3.0->lifelines>=0.25->ngboost) (3.2.0)\n",
            "Requirement already satisfied: python-dateutil>=2.7 in /usr/local/lib/python3.10/dist-packages (from matplotlib>=3.0->lifelines>=0.25->ngboost) (2.8.2)\n",
            "Requirement already satisfied: pytz>=2020.1 in /usr/local/lib/python3.10/dist-packages (from pandas>=2.1->lifelines>=0.25->ngboost) (2024.2)\n",
            "Requirement already satisfied: tzdata>=2022.7 in /usr/local/lib/python3.10/dist-packages (from pandas>=2.1->lifelines>=0.25->ngboost) (2024.2)\n",
            "Requirement already satisfied: six>=1.5 in /usr/local/lib/python3.10/dist-packages (from python-dateutil>=2.7->matplotlib>=3.0->lifelines>=0.25->ngboost) (1.16.0)\n",
            "Downloading ngboost-0.5.1-py3-none-any.whl (33 kB)\n",
            "Downloading lifelines-0.30.0-py3-none-any.whl (349 kB)\n",
            "\u001b[2K   \u001b[90m━━━━━━━━━━━━━━━━━━━━━━━━━━━━━━━━━━━━━━━━\u001b[0m \u001b[32m349.3/349.3 kB\u001b[0m \u001b[31m8.8 MB/s\u001b[0m eta \u001b[36m0:00:00\u001b[0m\n",
            "\u001b[?25hDownloading formulaic-1.0.2-py3-none-any.whl (94 kB)\n",
            "\u001b[2K   \u001b[90m━━━━━━━━━━━━━━━━━━━━━━━━━━━━━━━━━━━━━━━━\u001b[0m \u001b[32m94.5/94.5 kB\u001b[0m \u001b[31m6.5 MB/s\u001b[0m eta \u001b[36m0:00:00\u001b[0m\n",
            "\u001b[?25hDownloading interface_meta-1.3.0-py3-none-any.whl (14 kB)\n",
            "Building wheels for collected packages: autograd-gamma\n",
            "  Building wheel for autograd-gamma (setup.py) ... \u001b[?25l\u001b[?25hdone\n",
            "  Created wheel for autograd-gamma: filename=autograd_gamma-0.5.0-py3-none-any.whl size=4031 sha256=242fe76c3f7e4e888474ce72b370dd058cd5474479e63bb27fe9a2e0d5f698c8\n",
            "  Stored in directory: /root/.cache/pip/wheels/25/cc/e0/ef2969164144c899fedb22b338f6703e2b9cf46eeebf254991\n",
            "Successfully built autograd-gamma\n",
            "Installing collected packages: interface-meta, autograd-gamma, formulaic, lifelines, ngboost\n",
            "Successfully installed autograd-gamma-0.5.0 formulaic-1.0.2 interface-meta-1.3.0 lifelines-0.30.0 ngboost-0.5.1\n",
            "Collecting scikit-learn-extra\n",
            "  Downloading scikit_learn_extra-0.3.0-cp310-cp310-manylinux_2_17_x86_64.manylinux2014_x86_64.whl.metadata (3.6 kB)\n",
            "Requirement already satisfied: numpy>=1.13.3 in /usr/local/lib/python3.10/dist-packages (from scikit-learn-extra) (1.26.4)\n",
            "Requirement already satisfied: scipy>=0.19.1 in /usr/local/lib/python3.10/dist-packages (from scikit-learn-extra) (1.13.1)\n",
            "Requirement already satisfied: scikit-learn>=0.23.0 in /usr/local/lib/python3.10/dist-packages (from scikit-learn-extra) (1.5.2)\n",
            "Requirement already satisfied: joblib>=1.2.0 in /usr/local/lib/python3.10/dist-packages (from scikit-learn>=0.23.0->scikit-learn-extra) (1.4.2)\n",
            "Requirement already satisfied: threadpoolctl>=3.1.0 in /usr/local/lib/python3.10/dist-packages (from scikit-learn>=0.23.0->scikit-learn-extra) (3.5.0)\n",
            "Downloading scikit_learn_extra-0.3.0-cp310-cp310-manylinux_2_17_x86_64.manylinux2014_x86_64.whl (2.0 MB)\n",
            "\u001b[2K   \u001b[90m━━━━━━━━━━━━━━━━━━━━━━━━━━━━━━━━━━━━━━━━\u001b[0m \u001b[32m2.0/2.0 MB\u001b[0m \u001b[31m17.5 MB/s\u001b[0m eta \u001b[36m0:00:00\u001b[0m\n",
            "\u001b[?25hInstalling collected packages: scikit-learn-extra\n",
            "Successfully installed scikit-learn-extra-0.3.0\n"
          ]
        }
      ]
    },
    {
      "cell_type": "markdown",
      "source": [
        "Importing the necessary libraries."
      ],
      "metadata": {
        "id": "O48Y_YJFb6HO"
      }
    },
    {
      "cell_type": "code",
      "source": [
        "import pandas as pd\n",
        "import numpy as np\n",
        "from google.colab import drive\n",
        "from sklearn.model_selection import train_test_split\n",
        "from sklearn.metrics import mean_squared_error, mean_absolute_error, precision_score, recall_score, f1_score, silhouette_score\n",
        "from sklearn.linear_model import LinearRegression, LogisticRegression\n",
        "from sklearn.ensemble import RandomForestRegressor, ExtraTreesRegressor, AdaBoostRegressor\n",
        "from sklearn.naive_bayes import GaussianNB\n",
        "from sklearn.neighbors import KNeighborsClassifier\n",
        "from sklearn.svm import SVC\n",
        "from sklearn.tree import DecisionTreeClassifier\n",
        "from sklearn.neural_network import MLPClassifier\n",
        "from sklearn.decomposition import PCA\n",
        "from sklearn.preprocessing import StandardScaler\n",
        "from sklearn.cluster import KMeans\n",
        "from sklearn.mixture import GaussianMixture\n",
        "from sklearn_extra.cluster import KMedoids\n",
        "from xgboost import XGBRegressor\n",
        "from ngboost import NGBRegressor\n",
        "from scipy.spatial.distance import cdist\n",
        "import matplotlib.pyplot as plt\n"
      ],
      "metadata": {
        "id": "Ua86d1kbYtS1"
      },
      "execution_count": 2,
      "outputs": []
    },
    {
      "cell_type": "markdown",
      "source": [
        "Mounting and reading the data on standard variable 'data'."
      ],
      "metadata": {
        "id": "zWxsnwT1b-C8"
      }
    },
    {
      "cell_type": "code",
      "source": [
        "drive.mount('/content/drive')\n",
        "file_path = '/content/drive/MyDrive/FoDS/dataset.csv'  # Replace with your file path\n",
        "data = pd.read_csv(file_path)"
      ],
      "metadata": {
        "colab": {
          "base_uri": "https://localhost:8080/"
        },
        "id": "fMxENlm6ajAl",
        "outputId": "02f78a4a-2b47-494e-95a0-ba38636ea592"
      },
      "execution_count": 3,
      "outputs": [
        {
          "output_type": "stream",
          "name": "stdout",
          "text": [
            "Mounted at /content/drive\n"
          ]
        }
      ]
    },
    {
      "cell_type": "markdown",
      "source": [
        "Performing PCA on the numeric attributes of data."
      ],
      "metadata": {
        "id": "BQgzyVA2cCar"
      }
    },
    {
      "cell_type": "code",
      "execution_count": 4,
      "metadata": {
        "colab": {
          "base_uri": "https://localhost:8080/"
        },
        "id": "T2hOW3wM_JZ2",
        "outputId": "4b60c9bc-cda7-4bc2-a32f-574158562a36"
      },
      "outputs": [
        {
          "output_type": "stream",
          "name": "stdout",
          "text": [
            "Explained Variance Ratio: [0.448133   0.2230434  0.16659928]\n",
            "Number of elements in data_original: 22500\n",
            "Number of elements in data_pca: 20000\n",
            "Number of rows in data_original: 2500\n",
            "Number of rows in data_pca: 2500\n",
            "\n",
            "Original Data (data_original):\n",
            "   gender_number   age  hypertension  heart_disease  smoking_number    bmi  \\\n",
            "0              0  72.0             0              0               1  30.66   \n",
            "1              1  32.0             0              0               1  39.97   \n",
            "2              1  46.0             1              1               2  28.54   \n",
            "3              1  74.0             0              0               0  27.32   \n",
            "4              1  32.0             0              0               2  27.30   \n",
            "\n",
            "   HbA1c_level  blood_glucose_level  diabetes  \n",
            "0          4.5                  159         0  \n",
            "1          7.0                  280         1  \n",
            "2          5.7                  260         1  \n",
            "3          5.0                  160         0  \n",
            "4          5.7                  100         0  \n",
            "\n",
            "PCA Transformed Data with Categorical Attributes (data_pca):\n",
            "   gender_number  hypertension  heart_disease  smoking_number  diabetes  \\\n",
            "0              0             0              0               1         0   \n",
            "1              1             0              0               1         1   \n",
            "2              1             1              1               2         1   \n",
            "3              1             0              0               0         0   \n",
            "4              1             0              0               2         0   \n",
            "\n",
            "        PC1       PC2       PC3  \n",
            "0  0.254374  1.163105 -1.089557  \n",
            "1  2.141052 -0.838295  0.212601  \n",
            "2  0.972130 -0.851575 -1.165502  \n",
            "3  0.282040  0.681608 -1.090551  \n",
            "4 -1.002365  0.163576  0.657241  \n"
          ]
        }
      ],
      "source": [
        "# Loading numeric attributes of data\n",
        "\n",
        "numeric_data = data[['age', 'bmi', 'HbA1c_level', 'blood_glucose_level']]\n",
        "\n",
        "# Scaling the data\n",
        "\n",
        "scaler = StandardScaler()\n",
        "numeric_data_scaled = scaler.fit_transform(numeric_data)\n",
        "\n",
        "# Performing PCA on the data\n",
        "\n",
        "pca = PCA(n_components=3)\n",
        "pca_components = pca.fit_transform(numeric_data_scaled)\n",
        "\n",
        "# Extracting the PCA cells of pca_components\n",
        "\n",
        "pca_df = pd.DataFrame(data=pca_components, columns=['PC1', 'PC2', 'PC3'])\n",
        "\n",
        "# Making a dataframe with only categorical attributes (not used in PCA)\n",
        "\n",
        "categorical_data = data.drop(columns=['age', 'bmi', 'HbA1c_level', 'blood_glucose_level'])\n",
        "\n",
        "# Making new dataframe with categorical attributes + PCA columns\n",
        "\n",
        "data_pca = pd.concat([categorical_data, pca_df], axis=1)\n",
        "\n",
        "# Statistics on the Pre-processed and Post-processed data\n",
        "\n",
        "print(\"Explained Variance Ratio:\", pca.explained_variance_ratio_)\n",
        "print(\"Number of elements in data_original:\", data.size)\n",
        "print(\"Number of elements in data_pca:\", data_pca.size)\n",
        "print(\"Number of rows in data_original:\", data.shape[0])\n",
        "print(\"Number of rows in data_pca:\", data_pca.shape[0])\n",
        "\n",
        "# Printing sample cells from both data\n",
        "\n",
        "print(\"\\nOriginal Data (data_original):\")\n",
        "print(data.head())\n",
        "print(\"\\nPCA Transformed Data with Categorical Attributes (data_pca):\")\n",
        "print(data_pca.head())\n"
      ]
    },
    {
      "cell_type": "markdown",
      "source": [
        "Performing regression on blood_glucose level across other numerical attributes."
      ],
      "metadata": {
        "id": "57p8fVWccxqP"
      }
    },
    {
      "cell_type": "code",
      "execution_count": 5,
      "metadata": {
        "colab": {
          "base_uri": "https://localhost:8080/"
        },
        "id": "ILvOfx4yEOaj",
        "outputId": "6a670b70-c0d1-426a-f3e6-1e1fd6d6f388"
      },
      "outputs": [
        {
          "output_type": "stream",
          "name": "stdout",
          "text": [
            "Linear Regression: RMSE = 47.36, MAE = 36.56\n",
            "Random Forest: RMSE = 48.24, MAE = 37.33\n",
            "Extra Trees: RMSE = 48.08, MAE = 36.70\n",
            "AdaBoost: RMSE = 47.91, MAE = 38.68\n",
            "XGBoost: RMSE = 52.17, MAE = 40.47\n",
            "NGBoost: RMSE = 47.43, MAE = 35.56\n",
            "\n",
            "Comparison of Regression Models:\n",
            "                        RMSE        MAE\n",
            "Linear Regression  47.355947  36.558859\n",
            "Random Forest      48.240764  37.331256\n",
            "Extra Trees        48.083156  36.698548\n",
            "AdaBoost           47.910267  38.676403\n",
            "XGBoost            52.169931  40.474213\n",
            "NGBoost            47.434920  35.557379\n"
          ]
        }
      ],
      "source": [
        "# Loading the dependent and independent variables for Regression\n",
        "\n",
        "X = data[['age', 'bmi', 'HbA1c_level']]\n",
        "y = data['blood_glucose_level']\n",
        "\n",
        "# Making training and testing splits for regression\n",
        "\n",
        "X_train, X_test, y_train, y_test = train_test_split(X, y, test_size=0.2, random_state=42)\n",
        "\n",
        "# Making the function for evaluating and extracting statistics from each Regression model\n",
        "\n",
        "def evaluate_model(model, X_train, X_test, y_train, y_test):\n",
        "    model.fit(X_train, y_train)\n",
        "    y_pred = model.predict(X_test)\n",
        "    rmse = np.sqrt(mean_squared_error(y_test, y_pred))\n",
        "    mae = mean_absolute_error(y_test, y_pred)\n",
        "    return rmse, mae\n",
        "\n",
        "# Defining the models to be used\n",
        "\n",
        "models = {\n",
        "    \"Linear Regression\": LinearRegression(),\n",
        "    \"Random Forest\": RandomForestRegressor(random_state=42, max_depth=10, n_estimators=100),\n",
        "    \"Extra Trees\": ExtraTreesRegressor(random_state=42, max_depth=10, n_estimators=100),\n",
        "    \"AdaBoost\": AdaBoostRegressor(random_state=42, n_estimators=50),\n",
        "    \"XGBoost\": XGBRegressor(objective='reg:squarederror', random_state=42, max_depth=5, n_estimators=100),\n",
        "    \"NGBoost\": NGBRegressor(random_state=42, n_estimators=100, verbose =False)\n",
        "}\n",
        "\n",
        "# Storing the results in a map\n",
        "\n",
        "results = {}\n",
        "for name, model in models.items():\n",
        "    rmse, mae = evaluate_model(model, X_train, X_test, y_train, y_test)\n",
        "    results[name] = {\"RMSE\": rmse, \"MAE\": mae}\n",
        "    print(f\"{name}: RMSE = {rmse:.2f}, MAE = {mae:.2f}\")\n",
        "\n",
        "# Printing the results\n",
        "\n",
        "results_df = pd.DataFrame(results).T\n",
        "print(\"\\nComparison of Regression Models:\")\n",
        "print(results_df)\n"
      ]
    },
    {
      "cell_type": "markdown",
      "source": [
        "Testing the various classifier models accross diabetes being the column with the labels."
      ],
      "metadata": {
        "id": "DEPfOkFEdPj6"
      }
    },
    {
      "cell_type": "code",
      "execution_count": 6,
      "metadata": {
        "colab": {
          "base_uri": "https://localhost:8080/"
        },
        "id": "bBMc1KIHHgjL",
        "outputId": "a93cdbaa-d552-4220-d390-754a295cec46"
      },
      "outputs": [
        {
          "output_type": "stream",
          "name": "stdout",
          "text": [
            "Evaluation on Original Dataset (without PCA):\n",
            "Logistic Regression: Precision = 0.87, Recall = 0.74, F1-score = 0.80\n",
            "Naive Bayes: Precision = 0.88, Recall = 0.68, F1-score = 0.77\n",
            "K-Nearest Neighbors: Precision = 0.80, Recall = 0.63, F1-score = 0.71\n",
            "Linear SVM: Precision = 0.88, Recall = 0.72, F1-score = 0.79\n",
            "Kernel SVM: Precision = 0.91, Recall = 0.41, F1-score = 0.57\n",
            "Decision Trees: Precision = 0.83, Recall = 0.78, F1-score = 0.81\n",
            "Neural Networks: Precision = 0.96, Recall = 0.65, F1-score = 0.77\n",
            "\n",
            "Evaluation on Pre-processed Dataset (with PCA):\n",
            "Logistic Regression: Precision = 0.86, Recall = 0.75, F1-score = 0.80\n",
            "Naive Bayes: Precision = 0.88, Recall = 0.63, F1-score = 0.74\n",
            "K-Nearest Neighbors: Precision = 0.86, Recall = 0.78, F1-score = 0.82\n",
            "Linear SVM: Precision = 0.88, Recall = 0.72, F1-score = 0.79\n",
            "Kernel SVM: Precision = 0.91, Recall = 0.72, F1-score = 0.80\n",
            "Decision Trees: Precision = 0.78, Recall = 0.71, F1-score = 0.74\n",
            "Neural Networks: Precision = 0.89, Recall = 0.77, F1-score = 0.82\n",
            "\n",
            "Comparison of Classifiers on Original and PCA Datasets:\n",
            "                    Original Dataset                     PCA Dataset  \\\n",
            "                           Precision    Recall  F1-score   Precision   \n",
            "Logistic Regression         0.866197  0.736527  0.796117    0.856164   \n",
            "Naive Bayes                 0.882812  0.676647  0.766102    0.883333   \n",
            "K-Nearest Neighbors         0.796992  0.634731  0.706667    0.861842   \n",
            "Linear SVM                  0.882353  0.718563  0.792079    0.876812   \n",
            "Kernel SVM                  0.907895  0.413174  0.567901    0.909091   \n",
            "Decision Trees              0.834395  0.784431  0.808642    0.781457   \n",
            "Neural Networks             0.955752  0.646707  0.771429    0.888889   \n",
            "\n",
            "                                         \n",
            "                       Recall  F1-score  \n",
            "Logistic Regression  0.748503  0.798722  \n",
            "Naive Bayes          0.634731  0.738676  \n",
            "K-Nearest Neighbors  0.784431  0.821317  \n",
            "Linear SVM           0.724551  0.793443  \n",
            "Kernel SVM           0.718563  0.802676  \n",
            "Decision Trees       0.706587  0.742138  \n",
            "Neural Networks      0.766467  0.823151  \n"
          ]
        }
      ],
      "source": [
        "# Loading the numeric attributes to be used to predict the column of diabetes\n",
        "\n",
        "X = data[['age', 'bmi', 'HbA1c_level', 'blood_glucose_level']]\n",
        "y = data['diabetes']\n",
        "\n",
        "# Splitting the data into training and testing sets\n",
        "\n",
        "X_train, X_test, y_train, y_test = train_test_split(X, y, test_size=0.2, random_state=42)\n",
        "\n",
        "# Scaling the data of training and testing columns (scaled to training)\n",
        "\n",
        "scaler = StandardScaler()\n",
        "X_train_scaled = scaler.fit_transform(X_train)\n",
        "X_test_scaled = scaler.transform(X_test)\n",
        "\n",
        "# Performing PCA on the training and testing columns (scaled to training)\n",
        "\n",
        "pca = PCA(n_components=3)  # Reduce to 3 components\n",
        "X_train_pca = pca.fit_transform(X_train_scaled)\n",
        "X_test_pca = pca.transform(X_test_scaled)\n",
        "\n",
        "# Defining the classifier models to be tested\n",
        "\n",
        "classifiers = {\n",
        "    \"Logistic Regression\": LogisticRegression(),\n",
        "    \"Naive Bayes\": GaussianNB(),\n",
        "    \"K-Nearest Neighbors\": KNeighborsClassifier(),\n",
        "    \"Linear SVM\": SVC(kernel='linear'),\n",
        "    \"Kernel SVM\": SVC(kernel='rbf'),\n",
        "    \"Decision Trees\": DecisionTreeClassifier(),\n",
        "    \"Neural Networks\": MLPClassifier(max_iter=1000)\n",
        "}\n",
        "\n",
        "# Defining the evalutation function for the classifiers\n",
        "\n",
        "def evaluate_classifier(model, X_train, X_test, y_train, y_test):\n",
        "    model.fit(X_train, y_train)\n",
        "    y_pred = model.predict(X_test)\n",
        "    precision = precision_score(y_test, y_pred)\n",
        "    recall = recall_score(y_test, y_pred)\n",
        "    f1 = f1_score(y_test, y_pred)\n",
        "    return precision, recall, f1\n",
        "\n",
        "# Printing the statistics on the evalutation models (on both pre-processed and post-processed data)\n",
        "\n",
        "print(\"Evaluation on Original Dataset (without PCA):\")\n",
        "results_original = {}\n",
        "for name, model in classifiers.items():\n",
        "    precision, recall, f1 = evaluate_classifier(model, X_train, X_test, y_train, y_test)\n",
        "    results_original[name] = {\"Precision\": precision, \"Recall\": recall, \"F1-score\": f1}\n",
        "    print(f\"{name}: Precision = {precision:.2f}, Recall = {recall:.2f}, F1-score = {f1:.2f}\")\n",
        "\n",
        "print(\"\\nEvaluation on Pre-processed Dataset (with PCA):\")\n",
        "results_pca = {}\n",
        "for name, model in classifiers.items():\n",
        "    precision, recall, f1 = evaluate_classifier(model, X_train_pca, X_test_pca, y_train, y_test)\n",
        "    results_pca[name] = {\"Precision\": precision, \"Recall\": recall, \"F1-score\": f1}\n",
        "    print(f\"{name}: Precision = {precision:.2f}, Recall = {recall:.2f}, F1-score = {f1:.2f}\")\n",
        "\n",
        "# Storing the results\n",
        "\n",
        "results_original_df = pd.DataFrame(results_original).T\n",
        "results_pca_df = pd.DataFrame(results_pca).T\n",
        "\n",
        "# Printing the results\n",
        "\n",
        "print(\"\\nComparison of Classifiers on Original and PCA Datasets:\")\n",
        "comparison_df = pd.concat([results_original_df, results_pca_df], axis=1, keys=['Original Dataset', 'PCA Dataset'])\n",
        "print(comparison_df)\n"
      ]
    },
    {
      "cell_type": "code",
      "execution_count": 7,
      "metadata": {
        "colab": {
          "base_uri": "https://localhost:8080/",
          "height": 1000
        },
        "id": "prNFLvKsI7SB",
        "outputId": "8dfd2c45-1499-4c33-9a54-c405d242665a"
      },
      "outputs": [
        {
          "output_type": "stream",
          "name": "stdout",
          "text": [
            "Optimal k for original dataset:\n"
          ]
        },
        {
          "output_type": "display_data",
          "data": {
            "text/plain": [
              "<Figure size 640x480 with 1 Axes>"
            ],
            "image/png": "[encoded data removed]"
          },
          "metadata": {}
        },
        {
          "output_type": "stream",
          "name": "stdout",
          "text": [
            "\n",
            "Optimal k for z-score transformed dataset:\n"
          ]
        },
        {
          "output_type": "display_data",
          "data": {
            "text/plain": [
              "<Figure size 640x480 with 1 Axes>"
            ],
            "image/png": "[encoded data removed]"
          },
          "metadata": {}
        },
        {
          "output_type": "stream",
          "name": "stdout",
          "text": [
            "\n",
            "K-means clustering on original dataset:\n",
            "SSE: 1139372.3408714111, Silhouette Score: 0.452733332334518\n",
            "\n",
            "K-means clustering on z-score transformed dataset:\n",
            "SSE: 4245.7412056173425, Silhouette Score: 0.25633023718754994\n",
            "\n",
            "EM-Clustering (Gaussian Mixture Model) on original dataset:\n",
            "Silhouette Score: 0.4262934971022585\n",
            "\n",
            "EM-Clustering (Gaussian Mixture Model) on z-score transformed dataset:\n",
            "Silhouette Score: 0.19420307908028686\n",
            "\n",
            "K-medoids clustering on original dataset:\n",
            "Silhouette Score: 0.4481770020343045\n",
            "\n",
            "K-medoids clustering on z-score transformed dataset:\n",
            "Silhouette Score: 0.19223318418040736\n",
            "\n",
            "Clustering Comparison (SSE and Silhouette Score):\n",
            "      Clustering Method     SSE/Score  Silhouette Score\n",
            "0    K-means (Original)  1.139372e+06          0.452733\n",
            "1     K-means (Z-score)  4.245741e+03          0.256330\n",
            "2         EM (Original)  4.262935e-01          0.426293\n",
            "3          EM (Z-score)  1.942031e-01          0.194203\n",
            "4  K-medoids (Original)  4.481770e-01          0.448177\n",
            "5   K-medoids (Z-score)  1.922332e-01          0.192233\n"
          ]
        }
      ],
      "source": [
        "# Loading the numeric attributes to be used to cluster the data\n",
        "X = data[['age', 'bmi', 'HbA1c_level', 'blood_glucose_level']]\n",
        "\n",
        "# Scaling the data\n",
        "scaler = StandardScaler()\n",
        "X_zscore = scaler.fit_transform(X)\n",
        "\n",
        "# Defining the various clustering models\n",
        "def kmeans_clustering(X, k):\n",
        "    kmeans = KMeans(n_clusters=k, random_state=42)\n",
        "    kmeans.fit(X)\n",
        "    labels = kmeans.labels_\n",
        "    sse = kmeans.inertia_  # Sum of squared errors\n",
        "    silhouette = silhouette_score(X, labels)\n",
        "    return labels, sse, silhouette\n",
        "\n",
        "def em_clustering(X, k):\n",
        "    gmm = GaussianMixture(n_components=k, random_state=42)\n",
        "    gmm.fit(X)\n",
        "    labels = gmm.predict(X)\n",
        "    silhouette = silhouette_score(X, labels)\n",
        "    return labels, silhouette\n",
        "\n",
        "# Updated K-Medoids clustering function with new parameters\n",
        "def kmedoids_clustering(X, k):\n",
        "    kmedoids = KMedoids(n_clusters=k, init='k-medoids++', random_state=42)  # Adjusted parameters\n",
        "    kmedoids.fit(X)\n",
        "    labels = kmedoids.labels_\n",
        "    silhouette = silhouette_score(X, labels)\n",
        "    return labels, silhouette\n",
        "\n",
        "def clustering_metrics(X, labels):\n",
        "    silhouette = silhouette_score(X, labels)\n",
        "    return silhouette\n",
        "\n",
        "# Defining the plot printing for optimal k calculation\n",
        "def optimal_k(X):\n",
        "    distortions = []\n",
        "    for k in range(1, 11):  # Trying from k=1 to k=10\n",
        "        kmeans = KMeans(n_clusters=k, random_state=42)\n",
        "        kmeans.fit(X)\n",
        "        distortions.append(kmeans.inertia_)\n",
        "\n",
        "    plt.plot(range(1, 11), distortions)\n",
        "    plt.title('Elbow Method for Optimal k')\n",
        "    plt.xlabel('Number of clusters')\n",
        "    plt.ylabel('Distortion (SSE)')\n",
        "    plt.show()\n",
        "\n",
        "# Printing the various graphs for both z_scored data and original data\n",
        "print(\"Optimal k for original dataset:\")\n",
        "optimal_k(X)\n",
        "\n",
        "print(\"\\nOptimal k for z-score transformed dataset:\")\n",
        "optimal_k(X_zscore)\n",
        "\n",
        "# Setting k = 3 for all models\n",
        "k = 5\n",
        "\n",
        "# Printing Silhouette score for k = 3\n",
        "print(\"\\nK-means clustering on original dataset:\")\n",
        "labels_kmeans_original, sse_original, silhouette_original = kmeans_clustering(X, k)\n",
        "print(f\"SSE: {sse_original}, Silhouette Score: {silhouette_original}\")\n",
        "\n",
        "print(\"\\nK-means clustering on z-score transformed dataset:\")\n",
        "labels_kmeans_zscore, sse_zscore, silhouette_zscore = kmeans_clustering(X_zscore, k)\n",
        "print(f\"SSE: {sse_zscore}, Silhouette Score: {silhouette_zscore}\")\n",
        "\n",
        "print(\"\\nEM-Clustering (Gaussian Mixture Model) on original dataset:\")\n",
        "labels_em_original, silhouette_em_original = em_clustering(X, k)\n",
        "print(f\"Silhouette Score: {silhouette_em_original}\")\n",
        "\n",
        "print(\"\\nEM-Clustering (Gaussian Mixture Model) on z-score transformed dataset:\")\n",
        "labels_em_zscore, silhouette_em_zscore = em_clustering(X_zscore, k)\n",
        "print(f\"Silhouette Score: {silhouette_em_zscore}\")\n",
        "\n",
        "print(\"\\nK-medoids clustering on original dataset:\")\n",
        "labels_kmedoids_original, silhouette_kmedoids_original = kmedoids_clustering(X, k)\n",
        "print(f\"Silhouette Score: {silhouette_kmedoids_original}\")\n",
        "\n",
        "print(\"\\nK-medoids clustering on z-score transformed dataset:\")\n",
        "labels_kmedoids_zscore, silhouette_kmedoids_zscore = kmedoids_clustering(X_zscore, k)\n",
        "print(f\"Silhouette Score: {silhouette_kmedoids_zscore}\")\n",
        "\n",
        "# Defining results\n",
        "results = {\n",
        "    'Clustering Method': ['K-means (Original)', 'K-means (Z-score)', 'EM (Original)', 'EM (Z-score)', 'K-medoids (Original)', 'K-medoids (Z-score)'],\n",
        "    'SSE/Score': [sse_original, sse_zscore, silhouette_em_original, silhouette_em_zscore, silhouette_kmedoids_original, silhouette_kmedoids_zscore],\n",
        "    'Silhouette Score': [silhouette_original, silhouette_zscore, silhouette_em_original, silhouette_em_zscore, silhouette_kmedoids_original, silhouette_kmedoids_zscore]\n",
        "}\n",
        "\n",
        "# Printing results (SSE and Silhouette score)\n",
        "results_df = pd.DataFrame(results)\n",
        "print(\"\\nClustering Comparison (SSE and Silhouette Score):\")\n",
        "print(results_df)\n"
      ]
    }
  ],
  "metadata": {
    "accelerator": "GPU",
    "colab": {
      "gpuType": "T4",
      "provenance": []
    },
    "kernelspec": {
      "display_name": "Python 3",
      "name": "python3"
    },
    "language_info": {
      "name": "python"
    }
  },
  "nbformat": 4,
  "nbformat_minor": 0
}